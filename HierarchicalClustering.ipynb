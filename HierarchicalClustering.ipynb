{
 "cells": [
  {
   "cell_type": "code",
   "execution_count": 1,
   "metadata": {
    "colab": {},
    "colab_type": "code",
    "id": "ColZIjHTHbWb"
   },
   "outputs": [],
   "source": [
    "import numpy as np\n",
    "import pandas as pd\n",
    "\n",
    "from matplotlib import pyplot as plt"
   ]
  },
  {
   "cell_type": "code",
   "execution_count": 2,
   "metadata": {
    "colab": {},
    "colab_type": "code",
    "id": "asc0eQWrHbWk"
   },
   "outputs": [],
   "source": [
    "df=pd.read_csv('Nutrient_Composition_Dataset.csv') "
   ]
  },
  {
   "cell_type": "code",
   "execution_count": 4,
   "metadata": {
    "colab": {},
    "colab_type": "code",
    "id": "lJyzPSeJHbWs",
    "outputId": "b4d36816-a1aa-45a5-91f5-e6e84a0c3f21"
   },
   "outputs": [
    {
     "data": {
      "text/html": [
       "<div>\n",
       "<style scoped>\n",
       "    .dataframe tbody tr th:only-of-type {\n",
       "        vertical-align: middle;\n",
       "    }\n",
       "\n",
       "    .dataframe tbody tr th {\n",
       "        vertical-align: top;\n",
       "    }\n",
       "\n",
       "    .dataframe thead th {\n",
       "        text-align: right;\n",
       "    }\n",
       "</style>\n",
       "<table border=\"1\" class=\"dataframe\">\n",
       "  <thead>\n",
       "    <tr style=\"text-align: right;\">\n",
       "      <th></th>\n",
       "      <th>S.No</th>\n",
       "      <th>Protein</th>\n",
       "      <th>Fat</th>\n",
       "      <th>vitaminC</th>\n",
       "      <th>Fibre</th>\n",
       "      <th>Product</th>\n",
       "    </tr>\n",
       "  </thead>\n",
       "  <tbody>\n",
       "    <tr>\n",
       "      <th>0</th>\n",
       "      <td>1</td>\n",
       "      <td>0.452369</td>\n",
       "      <td>1.170926</td>\n",
       "      <td>1.079271</td>\n",
       "      <td>1.702960</td>\n",
       "      <td>Amaranth leaves, cooked, boiled, drained, with...</td>\n",
       "    </tr>\n",
       "    <tr>\n",
       "      <th>1</th>\n",
       "      <td>2</td>\n",
       "      <td>2.321087</td>\n",
       "      <td>0.706856</td>\n",
       "      <td>0.350088</td>\n",
       "      <td>0.658249</td>\n",
       "      <td>Bacon and beef sticks</td>\n",
       "    </tr>\n",
       "    <tr>\n",
       "      <th>2</th>\n",
       "      <td>3</td>\n",
       "      <td>0.884554</td>\n",
       "      <td>1.186571</td>\n",
       "      <td>2.428544</td>\n",
       "      <td>1.984562</td>\n",
       "      <td>Apples, frozen, unsweetened, unheated (Include...</td>\n",
       "    </tr>\n",
       "    <tr>\n",
       "      <th>3</th>\n",
       "      <td>4</td>\n",
       "      <td>0.715501</td>\n",
       "      <td>0.577599</td>\n",
       "      <td>0.270925</td>\n",
       "      <td>0.369266</td>\n",
       "      <td>Alcoholic beverage, beer, light, BUD LIGHT</td>\n",
       "    </tr>\n",
       "    <tr>\n",
       "      <th>4</th>\n",
       "      <td>5</td>\n",
       "      <td>0.132610</td>\n",
       "      <td>0.544521</td>\n",
       "      <td>0.116884</td>\n",
       "      <td>0.557309</td>\n",
       "      <td>Alcoholic beverage, daiquiri, canned</td>\n",
       "    </tr>\n",
       "  </tbody>\n",
       "</table>\n",
       "</div>"
      ],
      "text/plain": [
       "   S.No   Protein       Fat  vitaminC     Fibre  \\\n",
       "0     1  0.452369  1.170926  1.079271  1.702960   \n",
       "1     2  2.321087  0.706856  0.350088  0.658249   \n",
       "2     3  0.884554  1.186571  2.428544  1.984562   \n",
       "3     4  0.715501  0.577599  0.270925  0.369266   \n",
       "4     5  0.132610  0.544521  0.116884  0.557309   \n",
       "\n",
       "                                             Product  \n",
       "0  Amaranth leaves, cooked, boiled, drained, with...  \n",
       "1                              Bacon and beef sticks  \n",
       "2  Apples, frozen, unsweetened, unheated (Include...  \n",
       "3         Alcoholic beverage, beer, light, BUD LIGHT  \n",
       "4               Alcoholic beverage, daiquiri, canned  "
      ]
     },
     "execution_count": 4,
     "metadata": {},
     "output_type": "execute_result"
    }
   ],
   "source": [
    "df.head()"
   ]
  },
  {
   "cell_type": "code",
   "execution_count": 5,
   "metadata": {
    "colab": {},
    "colab_type": "code",
    "id": "dNrRncgoHbWy",
    "outputId": "c0566ac8-c6ae-490d-fb56-c8da1aa63cf7"
   },
   "outputs": [
    {
     "data": {
      "text/html": [
       "<div>\n",
       "<style scoped>\n",
       "    .dataframe tbody tr th:only-of-type {\n",
       "        vertical-align: middle;\n",
       "    }\n",
       "\n",
       "    .dataframe tbody tr th {\n",
       "        vertical-align: top;\n",
       "    }\n",
       "\n",
       "    .dataframe thead th {\n",
       "        text-align: right;\n",
       "    }\n",
       "</style>\n",
       "<table border=\"1\" class=\"dataframe\">\n",
       "  <thead>\n",
       "    <tr style=\"text-align: right;\">\n",
       "      <th></th>\n",
       "      <th>Protein</th>\n",
       "      <th>Fat</th>\n",
       "      <th>vitaminC</th>\n",
       "      <th>Fibre</th>\n",
       "    </tr>\n",
       "  </thead>\n",
       "  <tbody>\n",
       "    <tr>\n",
       "      <th>count</th>\n",
       "      <td>1746.000000</td>\n",
       "      <td>1746.000000</td>\n",
       "      <td>1746.000000</td>\n",
       "      <td>1746.000000</td>\n",
       "    </tr>\n",
       "    <tr>\n",
       "      <th>mean</th>\n",
       "      <td>0.922470</td>\n",
       "      <td>0.900091</td>\n",
       "      <td>0.900146</td>\n",
       "      <td>0.900830</td>\n",
       "    </tr>\n",
       "    <tr>\n",
       "      <th>std</th>\n",
       "      <td>0.627128</td>\n",
       "      <td>0.634617</td>\n",
       "      <td>0.623847</td>\n",
       "      <td>0.626875</td>\n",
       "    </tr>\n",
       "    <tr>\n",
       "      <th>min</th>\n",
       "      <td>0.000128</td>\n",
       "      <td>0.000267</td>\n",
       "      <td>0.000029</td>\n",
       "      <td>0.002579</td>\n",
       "    </tr>\n",
       "    <tr>\n",
       "      <th>25%</th>\n",
       "      <td>0.435853</td>\n",
       "      <td>0.394784</td>\n",
       "      <td>0.419103</td>\n",
       "      <td>0.389124</td>\n",
       "    </tr>\n",
       "    <tr>\n",
       "      <th>50%</th>\n",
       "      <td>0.813025</td>\n",
       "      <td>0.804687</td>\n",
       "      <td>0.796290</td>\n",
       "      <td>0.820783</td>\n",
       "    </tr>\n",
       "    <tr>\n",
       "      <th>75%</th>\n",
       "      <td>1.295106</td>\n",
       "      <td>1.298988</td>\n",
       "      <td>1.280870</td>\n",
       "      <td>1.295732</td>\n",
       "    </tr>\n",
       "    <tr>\n",
       "      <th>max</th>\n",
       "      <td>4.016890</td>\n",
       "      <td>3.979364</td>\n",
       "      <td>4.013322</td>\n",
       "      <td>3.570331</td>\n",
       "    </tr>\n",
       "  </tbody>\n",
       "</table>\n",
       "</div>"
      ],
      "text/plain": [
       "           Protein          Fat     vitaminC        Fibre\n",
       "count  1746.000000  1746.000000  1746.000000  1746.000000\n",
       "mean      0.922470     0.900091     0.900146     0.900830\n",
       "std       0.627128     0.634617     0.623847     0.626875\n",
       "min       0.000128     0.000267     0.000029     0.002579\n",
       "25%       0.435853     0.394784     0.419103     0.389124\n",
       "50%       0.813025     0.804687     0.796290     0.820783\n",
       "75%       1.295106     1.298988     1.280870     1.295732\n",
       "max       4.016890     3.979364     4.013322     3.570331"
      ]
     },
     "execution_count": 5,
     "metadata": {},
     "output_type": "execute_result"
    }
   ],
   "source": [
    "df.iloc[:,1:5].describe() "
   ]
  },
  {
   "cell_type": "code",
   "execution_count": 6,
   "metadata": {
    "colab": {},
    "colab_type": "code",
    "id": "BnFDfA4LHbW1"
   },
   "outputs": [],
   "source": [
    "data = df.iloc[:, 1:5] "
   ]
  },
  {
   "cell_type": "code",
   "execution_count": 7,
   "metadata": {
    "colab": {},
    "colab_type": "code",
    "id": "RxcWhDXHHbW5",
    "outputId": "eb333120-3547-45a3-da05-803850d121e0"
   },
   "outputs": [
    {
     "data": {
      "text/html": [
       "<div>\n",
       "<style scoped>\n",
       "    .dataframe tbody tr th:only-of-type {\n",
       "        vertical-align: middle;\n",
       "    }\n",
       "\n",
       "    .dataframe tbody tr th {\n",
       "        vertical-align: top;\n",
       "    }\n",
       "\n",
       "    .dataframe thead th {\n",
       "        text-align: right;\n",
       "    }\n",
       "</style>\n",
       "<table border=\"1\" class=\"dataframe\">\n",
       "  <thead>\n",
       "    <tr style=\"text-align: right;\">\n",
       "      <th></th>\n",
       "      <th>Protein</th>\n",
       "      <th>Fat</th>\n",
       "      <th>vitaminC</th>\n",
       "      <th>Fibre</th>\n",
       "    </tr>\n",
       "  </thead>\n",
       "  <tbody>\n",
       "    <tr>\n",
       "      <th>0</th>\n",
       "      <td>0.452369</td>\n",
       "      <td>1.170926</td>\n",
       "      <td>1.079271</td>\n",
       "      <td>1.702960</td>\n",
       "    </tr>\n",
       "    <tr>\n",
       "      <th>1</th>\n",
       "      <td>2.321087</td>\n",
       "      <td>0.706856</td>\n",
       "      <td>0.350088</td>\n",
       "      <td>0.658249</td>\n",
       "    </tr>\n",
       "    <tr>\n",
       "      <th>2</th>\n",
       "      <td>0.884554</td>\n",
       "      <td>1.186571</td>\n",
       "      <td>2.428544</td>\n",
       "      <td>1.984562</td>\n",
       "    </tr>\n",
       "    <tr>\n",
       "      <th>3</th>\n",
       "      <td>0.715501</td>\n",
       "      <td>0.577599</td>\n",
       "      <td>0.270925</td>\n",
       "      <td>0.369266</td>\n",
       "    </tr>\n",
       "    <tr>\n",
       "      <th>4</th>\n",
       "      <td>0.132610</td>\n",
       "      <td>0.544521</td>\n",
       "      <td>0.116884</td>\n",
       "      <td>0.557309</td>\n",
       "    </tr>\n",
       "  </tbody>\n",
       "</table>\n",
       "</div>"
      ],
      "text/plain": [
       "    Protein       Fat  vitaminC     Fibre\n",
       "0  0.452369  1.170926  1.079271  1.702960\n",
       "1  2.321087  0.706856  0.350088  0.658249\n",
       "2  0.884554  1.186571  2.428544  1.984562\n",
       "3  0.715501  0.577599  0.270925  0.369266\n",
       "4  0.132610  0.544521  0.116884  0.557309"
      ]
     },
     "execution_count": 7,
     "metadata": {},
     "output_type": "execute_result"
    }
   ],
   "source": [
    "data.head()"
   ]
  },
  {
   "cell_type": "code",
   "execution_count": 8,
   "metadata": {
    "colab": {},
    "colab_type": "code",
    "id": "9MIYM22GHbW-"
   },
   "outputs": [],
   "source": [
    "from scipy.cluster.hierarchy import dendrogram, linkage"
   ]
  },
  {
   "cell_type": "code",
   "execution_count": 9,
   "metadata": {
    "colab": {},
    "colab_type": "code",
    "id": "LmY2HasKHbXB"
   },
   "outputs": [],
   "source": [
    "wardlink = linkage(data, method = 'ward')"
   ]
  },
  {
   "cell_type": "code",
   "execution_count": 10,
   "metadata": {
    "colab": {},
    "colab_type": "code",
    "id": "H8vTA0cOHbXE",
    "outputId": "8284eaaa-90c0-440d-f557-43142d8228ed"
   },
   "outputs": [
    {
     "data": {
      "image/png": "[encoded data removed]",
      "text/plain": [
       "<Figure size 432x288 with 1 Axes>"
      ]
     },
     "metadata": {
      "needs_background": "light"
     },
     "output_type": "display_data"
    }
   ],
   "source": [
    "dend = dendrogram(wardlink)"
   ]
  },
  {
   "cell_type": "code",
   "execution_count": 14,
   "metadata": {
    "colab": {},
    "colab_type": "code",
    "id": "1qPJzGzqHbXH",
    "outputId": "7312bde1-8a9d-41fc-f09d-77c38c0d5121"
   },
   "outputs": [
    {
     "data": {
      "image/png": "[encoded data removed]",
      "text/plain": [
       "<Figure size 432x288 with 1 Axes>"
      ]
     },
     "metadata": {
      "needs_background": "light"
     },
     "output_type": "display_data"
    }
   ],
   "source": [
    "dend = dendrogram(wardlink,\n",
    "                 truncate_mode='lastp',\n",
    "                 p = 4,\n",
    "                 )"
   ]
  },
  {
   "cell_type": "code",
   "execution_count": 15,
   "metadata": {
    "colab": {},
    "colab_type": "code",
    "id": "UI-uxJaXHbXL"
   },
   "outputs": [],
   "source": [
    "from scipy.cluster.hierarchy import fcluster"
   ]
  },
  {
   "cell_type": "code",
   "execution_count": 16,
   "metadata": {
    "colab": {},
    "colab_type": "code",
    "id": "NUg_ea5EHbXQ",
    "outputId": "06bf64bf-8fec-459a-f963-ac24c8a6bc6c"
   },
   "outputs": [
    {
     "data": {
      "text/plain": [
       "array([2, 1, 3, ..., 1, 2, 4], dtype=int32)"
      ]
     },
     "execution_count": 16,
     "metadata": {},
     "output_type": "execute_result"
    }
   ],
   "source": [
    "#Method 1\n",
    "clusters = fcluster(wardlink, 5, criterion='maxclust')\n",
    "clusters"
   ]
  },
  {
   "cell_type": "code",
   "execution_count": 17,
   "metadata": {},
   "outputs": [
    {
     "data": {
      "text/plain": [
       "array([1, 2, 3, 4, 5], dtype=int32)"
      ]
     },
     "execution_count": 17,
     "metadata": {},
     "output_type": "execute_result"
    }
   ],
   "source": [
    "np.unique(clusters)"
   ]
  },
  {
   "cell_type": "code",
   "execution_count": 30,
   "metadata": {
    "colab": {},
    "colab_type": "code",
    "id": "ZRhCMDzZHbXU",
    "outputId": "59680f0c-0bd6-4241-a679-9fe18aebef3c"
   },
   "outputs": [
    {
     "data": {
      "text/plain": [
       "array([1, 1, 2, ..., 1, 1, 3], dtype=int32)"
      ]
     },
     "execution_count": 30,
     "metadata": {},
     "output_type": "execute_result"
    }
   ],
   "source": [
    "# Method 2\n",
    "distanceclusters = fcluster(wardlink, 25, criterion='distance')\n",
    "distanceclusters"
   ]
  },
  {
   "cell_type": "code",
   "execution_count": 31,
   "metadata": {},
   "outputs": [
    {
     "data": {
      "text/plain": [
       "array([1, 2, 3], dtype=int32)"
      ]
     },
     "execution_count": 31,
     "metadata": {},
     "output_type": "execute_result"
    }
   ],
   "source": [
    "np.unique(distanceclusters)"
   ]
  },
  {
   "cell_type": "code",
   "execution_count": 24,
   "metadata": {
    "colab": {},
    "colab_type": "code",
    "id": "oi9qhQs1HbXX"
   },
   "outputs": [],
   "source": [
    "df['clusters'] = clusters"
   ]
  },
  {
   "cell_type": "code",
   "execution_count": 25,
   "metadata": {
    "colab": {},
    "colab_type": "code",
    "id": "PEAe-IMQHbXc",
    "outputId": "15b4b134-cffc-433e-cc77-6c85c81fe6e2"
   },
   "outputs": [
    {
     "data": {
      "text/html": [
       "<div>\n",
       "<style scoped>\n",
       "    .dataframe tbody tr th:only-of-type {\n",
       "        vertical-align: middle;\n",
       "    }\n",
       "\n",
       "    .dataframe tbody tr th {\n",
       "        vertical-align: top;\n",
       "    }\n",
       "\n",
       "    .dataframe thead th {\n",
       "        text-align: right;\n",
       "    }\n",
       "</style>\n",
       "<table border=\"1\" class=\"dataframe\">\n",
       "  <thead>\n",
       "    <tr style=\"text-align: right;\">\n",
       "      <th></th>\n",
       "      <th>S.No</th>\n",
       "      <th>Protein</th>\n",
       "      <th>Fat</th>\n",
       "      <th>vitaminC</th>\n",
       "      <th>Fibre</th>\n",
       "      <th>Product</th>\n",
       "      <th>clusters</th>\n",
       "    </tr>\n",
       "  </thead>\n",
       "  <tbody>\n",
       "    <tr>\n",
       "      <th>0</th>\n",
       "      <td>1</td>\n",
       "      <td>0.452369</td>\n",
       "      <td>1.170926</td>\n",
       "      <td>1.079271</td>\n",
       "      <td>1.702960</td>\n",
       "      <td>Amaranth leaves, cooked, boiled, drained, with...</td>\n",
       "      <td>2</td>\n",
       "    </tr>\n",
       "    <tr>\n",
       "      <th>1</th>\n",
       "      <td>2</td>\n",
       "      <td>2.321087</td>\n",
       "      <td>0.706856</td>\n",
       "      <td>0.350088</td>\n",
       "      <td>0.658249</td>\n",
       "      <td>Bacon and beef sticks</td>\n",
       "      <td>1</td>\n",
       "    </tr>\n",
       "    <tr>\n",
       "      <th>2</th>\n",
       "      <td>3</td>\n",
       "      <td>0.884554</td>\n",
       "      <td>1.186571</td>\n",
       "      <td>2.428544</td>\n",
       "      <td>1.984562</td>\n",
       "      <td>Apples, frozen, unsweetened, unheated (Include...</td>\n",
       "      <td>3</td>\n",
       "    </tr>\n",
       "    <tr>\n",
       "      <th>3</th>\n",
       "      <td>4</td>\n",
       "      <td>0.715501</td>\n",
       "      <td>0.577599</td>\n",
       "      <td>0.270925</td>\n",
       "      <td>0.369266</td>\n",
       "      <td>Alcoholic beverage, beer, light, BUD LIGHT</td>\n",
       "      <td>1</td>\n",
       "    </tr>\n",
       "    <tr>\n",
       "      <th>4</th>\n",
       "      <td>5</td>\n",
       "      <td>0.132610</td>\n",
       "      <td>0.544521</td>\n",
       "      <td>0.116884</td>\n",
       "      <td>0.557309</td>\n",
       "      <td>Alcoholic beverage, daiquiri, canned</td>\n",
       "      <td>1</td>\n",
       "    </tr>\n",
       "  </tbody>\n",
       "</table>\n",
       "</div>"
      ],
      "text/plain": [
       "   S.No   Protein       Fat  vitaminC     Fibre  \\\n",
       "0     1  0.452369  1.170926  1.079271  1.702960   \n",
       "1     2  2.321087  0.706856  0.350088  0.658249   \n",
       "2     3  0.884554  1.186571  2.428544  1.984562   \n",
       "3     4  0.715501  0.577599  0.270925  0.369266   \n",
       "4     5  0.132610  0.544521  0.116884  0.557309   \n",
       "\n",
       "                                             Product  clusters  \n",
       "0  Amaranth leaves, cooked, boiled, drained, with...         2  \n",
       "1                              Bacon and beef sticks         1  \n",
       "2  Apples, frozen, unsweetened, unheated (Include...         3  \n",
       "3         Alcoholic beverage, beer, light, BUD LIGHT         1  \n",
       "4               Alcoholic beverage, daiquiri, canned         1  "
      ]
     },
     "execution_count": 25,
     "metadata": {},
     "output_type": "execute_result"
    }
   ],
   "source": [
    "df.head()"
   ]
  },
  {
   "cell_type": "code",
   "execution_count": 26,
   "metadata": {
    "colab": {},
    "colab_type": "code",
    "id": "I4BzyD8pHbXf"
   },
   "outputs": [],
   "source": [
    "df.to_csv('hc.csv')"
   ]
  },
  {
   "cell_type": "code",
   "execution_count": null,
   "metadata": {
    "colab": {},
    "colab_type": "code",
    "id": "P147bijuHbXl"
   },
   "outputs": [],
   "source": []
  }
 ],
 "metadata": {
  "colab": {
   "name": "Hierarchical Clustering Python Codes.ipynb",
   "provenance": []
  },
  "kernelspec": {
   "display_name": "Python 3 (ipykernel)",
   "language": "python",
   "name": "python3"
  },
  "language_info": {
   "codemirror_mode": {
    "name": "ipython",
    "version": 3
   },
   "file_extension": ".py",
   "mimetype": "text/x-python",
   "name": "python",
   "nbconvert_exporter": "python",
   "pygments_lexer": "ipython3",
   "version": "3.8.8"
  }
 },
 "nbformat": 4,
 "nbformat_minor": 1
}
